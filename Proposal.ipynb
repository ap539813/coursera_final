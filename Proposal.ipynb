{
 "cells": [
  {
   "cell_type": "markdown",
   "metadata": {},
   "source": [
    "### Clustering Neighborhoods in New York City and Segmentation\n",
    "\n",
    "### Introduction to the Problem\n",
    "\n",
    "We would try to implement the similar problem we have been taught and discussed in the course itself. We would try to find out that how similar or dissimilar two cities are considering some specific features. For our case we are going to consider New York, because it is easy to find New York dataset.\n",
    "\n",
    "### Solution\n",
    "\n",
    "Here I will convert addresses to their corresponding latitude and longitude values. I will use the Foursquare API to explore neighborhoods in New York City. I will use the explore function to get the most common venue categories in each neighborhood, and then use this feature to group the neighborhoods into clusters. I will use the k-means clustering algorithm to complete this task. Finally, I will use the Folium library to visualize the neighborhoods in New York City and their emerging clusters\n",
    "\n",
    "### Way to the Solution\n",
    "\n",
    "* Download and Explore Dataset\n",
    "\n",
    "* Explore Neighborhoods in New York City\n",
    "\n",
    "* Analyze Each Neighborhood\n",
    "\n",
    "* Cluster Neighborhoods\n",
    "\n",
    "* Examine Clusters"
   ]
  },
  {
   "cell_type": "code",
   "execution_count": null,
   "metadata": {},
   "outputs": [],
   "source": []
  }
 ],
 "metadata": {
  "kernelspec": {
   "display_name": "Python 3",
   "language": "python",
   "name": "python3"
  },
  "language_info": {
   "codemirror_mode": {
    "name": "ipython",
    "version": 3
   },
   "file_extension": ".py",
   "mimetype": "text/x-python",
   "name": "python",
   "nbconvert_exporter": "python",
   "pygments_lexer": "ipython3",
   "version": "3.7.3"
  }
 },
 "nbformat": 4,
 "nbformat_minor": 2
}
