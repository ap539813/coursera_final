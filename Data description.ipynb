{
 "cells": [
  {
   "cell_type": "markdown",
   "metadata": {},
   "source": [
    "### Data Discription\n",
    "We collect tha data from a wikipedia page, we scraped it and processed it according to our need. The preprocessed data containes the names aof areas of Allahabad (now known as Prayagraj). We got 53 number of rows of the areas of the city and tried to procede further with that data. The link to wikipedia page from where I scrapped the data is : https://en.m.wikipedia.org/wiki/Neighbourhoods_of_Allahabad\n",
    "\n",
    "### Use geopy library to get the latitude and longitude values of New York City\n",
    "In order to define an instance of the geocoder, we need to define a user agent. We will name our agent ny_explorer, as shown in thye code of capstone project.\n",
    "\n",
    "### Creating Map using folium\n",
    "Folium is a great visualization library. Feel free to zoom into the above map, and click on each circle mark to reveal the name of the neighborhood and its respective borough."
   ]
  },
  {
   "cell_type": "code",
   "execution_count": null,
   "metadata": {},
   "outputs": [],
   "source": []
  }
 ],
 "metadata": {
  "kernelspec": {
   "display_name": "Python 3",
   "language": "python",
   "name": "python3"
  },
  "language_info": {
   "codemirror_mode": {
    "name": "ipython",
    "version": 3
   },
   "file_extension": ".py",
   "mimetype": "text/x-python",
   "name": "python",
   "nbconvert_exporter": "python",
   "pygments_lexer": "ipython3",
   "version": "3.7.3"
  }
 },
 "nbformat": 4,
 "nbformat_minor": 2
}
